{
 "cells": [
  {
   "cell_type": "code",
   "execution_count": 1,
   "metadata": {},
   "outputs": [],
   "source": [
    "import sqlite3\n",
    "import pandas as pd\n",
    "import numpy as np\n",
    "import matplotlib.pyplot as plt\n",
    "import datetime\n",
    "import seaborn as sns\n",
    "import os\n",
    "import sys\n",
    "import spotipy\n",
    "import spotipy.util as util"
   ]
  },
  {
   "cell_type": "code",
   "execution_count": 2,
   "metadata": {},
   "outputs": [
    {
     "data": {
      "text/plain": [
       "'/Users/sepandrouzbehani/Python Projects/imessage'"
      ]
     },
     "execution_count": 2,
     "metadata": {},
     "output_type": "execute_result"
    }
   ],
   "source": [
    "os.getcwd()"
   ]
  },
  {
   "cell_type": "code",
   "execution_count": 3,
   "metadata": {},
   "outputs": [],
   "source": [
    "conn = sqlite3.connect('chat.db')\n",
    "c = conn.cursor()"
   ]
  },
  {
   "cell_type": "code",
   "execution_count": 4,
   "metadata": {},
   "outputs": [],
   "source": [
    "cmd1 = 'SELECT ROWID, text, handle_id, \\\n",
    "            datetime(((T1.date * 1.0 / 1000000000) + 978307200), \\'unixepoch\\', \\'localtime\\') as date_utc \\\n",
    "            FROM message T1 \\\n",
    "            INNER JOIN chat_message_join T2 \\\n",
    "                ON T2.chat_id=1 \\\n",
    "                AND T1.ROWID=T2.message_id \\\n",
    "            ORDER BY T1.date'\n",
    "c.execute(cmd1)\n",
    "df_msg = pd.DataFrame(c.fetchall()\n",
    "#                       , columns=['id', 'text', 'sender', 'time']\n",
    "                     )"
   ]
  },
  {
   "cell_type": "code",
   "execution_count": 2,
   "metadata": {},
   "outputs": [
    {
     "ename": "NameError",
     "evalue": "name 'df_msg' is not defined",
     "output_type": "error",
     "traceback": [
      "\u001b[0;31m---------------------------------------------------------------------------\u001b[0m",
      "\u001b[0;31mNameError\u001b[0m                                 Traceback (most recent call last)",
      "\u001b[0;32m<ipython-input-2-14f8e6a8c732>\u001b[0m in \u001b[0;36m<module>\u001b[0;34m\u001b[0m\n\u001b[0;32m----> 1\u001b[0;31m \u001b[0mdf_msg\u001b[0m\u001b[0;34m.\u001b[0m\u001b[0mtail\u001b[0m\u001b[0;34m(\u001b[0m\u001b[0;34m)\u001b[0m\u001b[0;34m\u001b[0m\u001b[0;34m\u001b[0m\u001b[0m\n\u001b[0m",
      "\u001b[0;31mNameError\u001b[0m: name 'df_msg' is not defined"
     ]
    }
   ],
   "source": [
    "df_msg.tail()"
   ]
  },
  {
   "cell_type": "code",
   "execution_count": 6,
   "metadata": {},
   "outputs": [
    {
     "data": {
      "text/html": [
       "<div>\n",
       "<style scoped>\n",
       "    .dataframe tbody tr th:only-of-type {\n",
       "        vertical-align: middle;\n",
       "    }\n",
       "\n",
       "    .dataframe tbody tr th {\n",
       "        vertical-align: top;\n",
       "    }\n",
       "\n",
       "    .dataframe thead th {\n",
       "        text-align: right;\n",
       "    }\n",
       "</style>\n",
       "<table border=\"1\" class=\"dataframe\">\n",
       "  <thead>\n",
       "    <tr style=\"text-align: right;\">\n",
       "      <th></th>\n",
       "      <th>text</th>\n",
       "      <th>date</th>\n",
       "    </tr>\n",
       "  </thead>\n",
       "  <tbody>\n",
       "    <tr>\n",
       "      <th>351</th>\n",
       "      <td>https://open.spotify.com/track/18HqnBh7gdexWWl...</td>\n",
       "      <td>2020-04-15 11:42:51</td>\n",
       "    </tr>\n",
       "    <tr>\n",
       "      <th>350</th>\n",
       "      <td>https://open.spotify.com/track/25mYqTtVHCpdRvo...</td>\n",
       "      <td>2020-04-15 10:33:32</td>\n",
       "    </tr>\n",
       "    <tr>\n",
       "      <th>349</th>\n",
       "      <td>https://open.spotify.com/track/0O4weGa6HfefrVU...</td>\n",
       "      <td>2020-04-15 09:52:24</td>\n",
       "    </tr>\n",
       "    <tr>\n",
       "      <th>348</th>\n",
       "      <td>https://open.spotify.com/track/55YMj9pA2x7CkC3...</td>\n",
       "      <td>2020-04-15 09:13:12</td>\n",
       "    </tr>\n",
       "    <tr>\n",
       "      <th>347</th>\n",
       "      <td>https://open.spotify.com/track/2W1ehC1GNSvUlWC...</td>\n",
       "      <td>2020-04-14 13:57:45</td>\n",
       "    </tr>\n",
       "  </tbody>\n",
       "</table>\n",
       "</div>"
      ],
      "text/plain": [
       "                                                  text                 date\n",
       "351  https://open.spotify.com/track/18HqnBh7gdexWWl...  2020-04-15 11:42:51\n",
       "350  https://open.spotify.com/track/25mYqTtVHCpdRvo...  2020-04-15 10:33:32\n",
       "349  https://open.spotify.com/track/0O4weGa6HfefrVU...  2020-04-15 09:52:24\n",
       "348  https://open.spotify.com/track/55YMj9pA2x7CkC3...  2020-04-15 09:13:12\n",
       "347  https://open.spotify.com/track/2W1ehC1GNSvUlWC...  2020-04-14 13:57:45"
      ]
     },
     "execution_count": 6,
     "metadata": {},
     "output_type": "execute_result"
    }
   ],
   "source": [
    "test = r\"SELECT m.text, datetime(((m.date * 1.0 / (10 * 10 *10 * 10 * 10 * 10 * 10 * 10 * 10)) + 978307200), 'unixepoch', 'localtime') as date FROM message m WHERE 1=1 AND m.text LIKE '%https://open.spotify.com/track%' AND m.text NOT LIKE '%“%' AND m.is_from_me = 0 ;\"\n",
    "c.execute(test)\n",
    "a = pd.DataFrame(c.fetchall(), columns=['text','date'])\n",
    "a = a.sort_values('date', ascending=False)\n",
    "a.head()"
   ]
  },
  {
   "cell_type": "code",
   "execution_count": 7,
   "metadata": {},
   "outputs": [
    {
     "data": {
      "text/plain": [
       "'https://open.spotify.com/track/18HqnBh7gdexWWl68nDpkS?si=jFu7HmqeS_uwkh6s8w5-Jg'"
      ]
     },
     "execution_count": 7,
     "metadata": {},
     "output_type": "execute_result"
    }
   ],
   "source": [
    "link = a.iloc[0,0]\n",
    "link"
   ]
  },
  {
   "cell_type": "code",
   "execution_count": 8,
   "metadata": {},
   "outputs": [
    {
     "name": "stdout",
     "output_type": "stream",
     "text": [
      "Idontknow - Jamie xx\n",
      "Yamaha - Aleksandir\n",
      "Between Summers - Aleksandir\n",
      "Hard to Explain - Aleksandir\n",
      "At The Door - The Strokes\n",
      "A Love That Never Happened - Rylan Taggart Remix - nogfgoodnight\n",
      "Reckoner - Radiohead\n",
      "Hidden T - Enrico Sangiuliano\n",
      "Nothing to Lose - Theo Kottis\n",
      "Reckoner (Maribou State Remix) - Mixed - Radiohead\n",
      "Start from the Beginning - Herr Lang\n",
      "Baum - COMPUTER DATA\n",
      "Ryder - The Element MT\n",
      "Magia - Mathame\n",
      "Send Me An Angel - Real Life\n",
      "Omertà - Kevin de Vries\n",
      "Tunnel - Recondite\n",
      "Behind Us - Glowal\n",
      "Moonwar - Lyke\n",
      "DETACH - Willaris. K\n"
     ]
    }
   ],
   "source": [
    "scope = 'user-library-read playlist-read-private playlist-modify-private playlist-modify-public'\n",
    "\n",
    "username = 'sepandr'\n",
    "client_id = 'paste_spotify_client_id'\n",
    "client_secret = 'paste_spotify_client_secret'\n",
    "\n",
    "token = util.prompt_for_user_token(username,\n",
    "                                   scope,\n",
    "                                   client_id='client_id',\n",
    "                                   client_secret='client_secret',\n",
    "                                   redirect_uri='http://localhost/')\n",
    "\n",
    "if token:\n",
    "    sp = spotipy.Spotify(auth=token)\n",
    "    results = sp.current_user_saved_tracks()\n",
    "    for item in results['items']:\n",
    "        track = item['track']\n",
    "        print(track['name'] + ' - ' + track['artists'][0]['name'])\n",
    "else:\n",
    "    print(\"Can't get token for\", username)"
   ]
  },
  {
   "cell_type": "code",
   "execution_count": 9,
   "metadata": {},
   "outputs": [],
   "source": [
    "playlists = []\n",
    "playlists_returned = 50\n",
    "offset = 0\n",
    "while playlists_returned == 50:\n",
    "    new = sp.current_user_playlists(limit=50, offset=offset)\n",
    "    new = new['items']\n",
    "    playlists.extend(new)\n",
    "    if len(new) == 50:\n",
    "        offset += 50\n",
    "    else:\n",
    "        playlists_returned = len(new)"
   ]
  },
  {
   "cell_type": "code",
   "execution_count": 10,
   "metadata": {},
   "outputs": [
    {
     "data": {
      "text/plain": [
       "['Played by Jamie xx',\n",
       " 'Music from Friends (iMessage)',\n",
       " 'Delta Notch - Trance to Study By: All-Nighter',\n",
       " '12 Hour Study Mix: Life to Study By Delta Notch',\n",
       " 'Story of Rinzen',\n",
       " 'need to listen to',\n",
       " 'Your Top Songs 2019',\n",
       " 'Persian Avant-Garde: Iranian Experimental Electronica /Tehran/IDM/2020/Dark/Space/Modern/Middle Eastern/Underground/2019/CTM/SET/Festival/Zabte Sote/Abstract/Futuristic/Industrial/ایرانی/تجربی/موسیقی',\n",
       " 'Against All Logic - Samples',\n",
       " 'Deep Concentration',\n",
       " 'Lowkey Tech',\n",
       " 'N\\'to\\'s \"Hot As F*ck\" : A Hungry Music Chart',\n",
       " 'Deep Trance and Deep Progressive',\n",
       " 'Historic Top Diez',\n",
       " '😷💕🌎🌍🌏🌕⭐️🌈💩🧡🥗🔵/̸̠̜̅̐͊̋̿̐̓\\\\̸̧\\\\̴̲̣̝̀͜ͅ ̸̝̮̟̹̀̆ ̴̤̻̀)🦄*:･🔵💿✧๑🌳🕉ඕัළඕั⭕️๑)✧*🦋🌵☄️☉🔵⭕️💿',\n",
       " \"You've got great taste!\",\n",
       " 'Tastebreakers 2018',\n",
       " 'riddim & bloos',\n",
       " 'Tastebreakers',\n",
       " 'Your Top Songs 2018',\n",
       " 'Night Drive',\n",
       " 'Spaces ',\n",
       " 'Hungry Music',\n",
       " 'music from m8s',\n",
       " 'Night Casita',\n",
       " 'Enamour: In Circulation',\n",
       " 'Top ۱۰',\n",
       " 'Top 10',\n",
       " 'Organic Experimental',\n",
       " '❀',\n",
       " 'The Ones That Got Away',\n",
       " 'Your Top Songs 2017',\n",
       " 'deadmau5 & friends',\n",
       " 'Headphone Selections by RÜFÜS DU SOL',\n",
       " 'Anjunadeep Recommends',\n",
       " 'Reddit Beautiful Songs Playlist ',\n",
       " 'Anjunadeep',\n",
       " 'Discover Weekly',\n",
       " 'dench m8',\n",
       " 'Endless',\n",
       " 'Frank Singles',\n",
       " 'Blonded',\n",
       " 'RapCaviar',\n",
       " 'Most Necessary',\n",
       " 'Top Ten',\n",
       " 'Trance&Other',\n",
       " 'Starred',\n",
       " 'sep special ',\n",
       " 'WORKHARDPLAYHARDERLIST',\n",
       " 'Chill',\n",
       " 'eh',\n",
       " 'Liked from Radio',\n",
       " '#TURNUP',\n",
       " 'OFWGKTA',\n",
       " 'Pregame',\n",
       " 'Riding',\n",
       " 'Top OFWGKTA',\n",
       " 'Calm']"
      ]
     },
     "execution_count": 10,
     "metadata": {},
     "output_type": "execute_result"
    }
   ],
   "source": [
    "playlist_names = [playlist['name'] for playlist in playlists]\n",
    "playlist_names"
   ]
  },
  {
   "cell_type": "code",
   "execution_count": 11,
   "metadata": {},
   "outputs": [],
   "source": [
    "if 'Music from Friends (iMessage)' not in playlist_names:\n",
    "    sp.user_playlist_create(username, 'Music from Friends (iMessage)', public=False, description='Music sent to me by friends via iMessage. Automatically updated!')\n",
    "    playlists = []\n",
    "    playlists_returned = 50\n",
    "    offset = 0\n",
    "    while playlists_returned == 50:\n",
    "        new = sp.current_user_playlists(limit=50, offset=offset)\n",
    "        new = new['items']\n",
    "        playlists.extend(new)\n",
    "        if len(new) == 50:\n",
    "            offset += 50\n",
    "        else:\n",
    "            playlists_returned = len(new)"
   ]
  },
  {
   "cell_type": "code",
   "execution_count": 12,
   "metadata": {},
   "outputs": [],
   "source": [
    "playlists = []\n",
    "playlists_returned = 50\n",
    "offset = 0\n",
    "while playlists_returned == 50:\n",
    "    new = sp.current_user_playlists(limit=50, offset=offset)\n",
    "    new = new['items']\n",
    "    playlists.extend(new)\n",
    "    if len(new) == 50:\n",
    "        offset += 50\n",
    "    else:\n",
    "        playlists_returned = len(new)"
   ]
  },
  {
   "cell_type": "code",
   "execution_count": 13,
   "metadata": {},
   "outputs": [],
   "source": [
    "playlist_dict = {playlist['name']:playlist['id'] for playlist in playlists}"
   ]
  },
  {
   "cell_type": "code",
   "execution_count": 14,
   "metadata": {},
   "outputs": [],
   "source": [
    "friends_pl = playlist_dict['Music from Friends (iMessage)']"
   ]
  },
  {
   "cell_type": "code",
   "execution_count": 15,
   "metadata": {},
   "outputs": [],
   "source": [
    "#This is useless I think\n",
    "friends_pl_tracks = sp.user_playlist(username, playlist_id=friends_pl)"
   ]
  },
  {
   "cell_type": "code",
   "execution_count": 17,
   "metadata": {},
   "outputs": [],
   "source": [
    "friends_pl_tracks = []\n",
    "tracks_returned = 100\n",
    "offset = 0\n",
    "while tracks_returned == 100:\n",
    "    new = sp.playlist_tracks(friends_pl, limit=100, offset=offset)\n",
    "    new = new['items']\n",
    "    friends_pl_tracks.extend(new)\n",
    "    if len(new) == 100:\n",
    "        offset += 100\n",
    "    else:\n",
    "        tracks_returned = len(new)"
   ]
  },
  {
   "cell_type": "code",
   "execution_count": 18,
   "metadata": {},
   "outputs": [],
   "source": [
    "if friends_pl_tracks:\n",
    "    friends_pl_track_ids = [track['track']['id'] for track in friends_pl_tracks]"
   ]
  },
  {
   "cell_type": "code",
   "execution_count": 23,
   "metadata": {},
   "outputs": [
    {
     "data": {
      "text/plain": [
       "['5xvIid93dbOCu5D3gkyQPX',\n",
       " '5Rcz4OsTYPX4A4PHOxr7Zc',\n",
       " '0ZULUQ9JPX9paocKP2FHm9',\n",
       " '19bh1n77ixZBzkJ7k5I0j8',\n",
       " '664jBL8NgKFYdiMK9bnCcz']"
      ]
     },
     "execution_count": 23,
     "metadata": {},
     "output_type": "execute_result"
    }
   ],
   "source": [
    "friends_pl_track_ids[:5]"
   ]
  },
  {
   "cell_type": "code",
   "execution_count": 20,
   "metadata": {},
   "outputs": [],
   "source": [
    "tracks_from_imessage = a.text.str.extract(r'track\\/(.{22})',expand=False).to_list()\n",
    "tracks_from_imessage = np.array(tracks_from_imessage)\n",
    "tracks_from_imessage = np.unique(tracks_from_imessage)\n",
    "tracks_from_imessage = tracks_from_imessage.tolist()\n",
    "tracks_to_push = [track for track in tracks_from_imessage if track not in friends_pl_track_ids]"
   ]
  },
  {
   "cell_type": "code",
   "execution_count": 21,
   "metadata": {},
   "outputs": [
    {
     "data": {
      "text/plain": [
       "11"
      ]
     },
     "execution_count": 21,
     "metadata": {},
     "output_type": "execute_result"
    }
   ],
   "source": [
    "len(tracks_to_push)"
   ]
  },
  {
   "cell_type": "code",
   "execution_count": 22,
   "metadata": {},
   "outputs": [
    {
     "name": "stdout",
     "output_type": "stream",
     "text": [
      "Pushed 11 tracks to playlist \"Music from Friends (iMessage)\".\n"
     ]
    }
   ],
   "source": [
    "if not tracks_to_push:\n",
    "    print('No new tracks to add')\n",
    "else:\n",
    "    n = 100\n",
    "    batches = [tracks_to_push[i * n:(i + 1) * n] for i in range((len(tracks_to_push) + n - 1) // n )]\n",
    "    for batch in batches:\n",
    "        sp.user_playlist_add_tracks(username, friends_pl, batch)\n",
    "    print(f'Pushed {len(tracks_to_push):,} tracks to playlist \"Music from Friends (iMessage)\".')"
   ]
  },
  {
   "cell_type": "code",
   "execution_count": null,
   "metadata": {},
   "outputs": [],
   "source": []
  }
 ],
 "metadata": {
  "kernelspec": {
   "display_name": "Python 3",
   "language": "python",
   "name": "python3"
  },
  "language_info": {
   "codemirror_mode": {
    "name": "ipython",
    "version": 3
   },
   "file_extension": ".py",
   "mimetype": "text/x-python",
   "name": "python",
   "nbconvert_exporter": "python",
   "pygments_lexer": "ipython3",
   "version": "3.7.7"
  }
 },
 "nbformat": 4,
 "nbformat_minor": 4
}
